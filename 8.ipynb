{
 "cells": [
  {
   "cell_type": "markdown",
   "metadata": {},
   "source": [
    "# 8 Introduction to Pandas"
   ]
  },
  {
   "cell_type": "markdown",
   "metadata": {},
   "source": [
    "## The DataFrame"
   ]
  },
  {
   "cell_type": "code",
   "execution_count": 21,
   "metadata": {},
   "outputs": [],
   "source": [
    "import json\n",
    "import pandas as pd"
   ]
  },
  {
   "cell_type": "code",
   "execution_count": 50,
   "metadata": {},
   "outputs": [],
   "source": [
    "df = pd.read_json('nobel_winners/nobel_winners2.json')"
   ]
  },
  {
   "cell_type": "code",
   "execution_count": 35,
   "metadata": {},
   "outputs": [
    {
     "data": {
      "text/html": [
       "<div>\n",
       "<style scoped>\n",
       "    .dataframe tbody tr th:only-of-type {\n",
       "        vertical-align: middle;\n",
       "    }\n",
       "\n",
       "    .dataframe tbody tr th {\n",
       "        vertical-align: top;\n",
       "    }\n",
       "\n",
       "    .dataframe thead th {\n",
       "        text-align: right;\n",
       "    }\n",
       "</style>\n",
       "<table border=\"1\" class=\"dataframe\">\n",
       "  <thead>\n",
       "    <tr style=\"text-align: right;\">\n",
       "      <th></th>\n",
       "      <th>link</th>\n",
       "      <th>name</th>\n",
       "      <th>year</th>\n",
       "      <th>category</th>\n",
       "      <th>country</th>\n",
       "      <th>born_in</th>\n",
       "      <th>text</th>\n",
       "      <th>date_of_birth</th>\n",
       "      <th>date_of_death</th>\n",
       "      <th>place_of_birth</th>\n",
       "      <th>place_of_death</th>\n",
       "      <th>gender</th>\n",
       "    </tr>\n",
       "  </thead>\n",
       "  <tbody>\n",
       "    <tr>\n",
       "      <td>0</td>\n",
       "      <td>http://en.wikipedia.org/wiki/Karl_Landsteiner</td>\n",
       "      <td>Karl Landsteiner</td>\n",
       "      <td>1930</td>\n",
       "      <td>Physiology or Medicine</td>\n",
       "      <td>Austria</td>\n",
       "      <td></td>\n",
       "      <td>Karl Landsteiner , Physiology or Medicine, 1930</td>\n",
       "      <td>14 June 1868</td>\n",
       "      <td>26 June 1943</td>\n",
       "      <td>Vienna</td>\n",
       "      <td>New York City</td>\n",
       "      <td>male</td>\n",
       "    </tr>\n",
       "    <tr>\n",
       "      <td>1</td>\n",
       "      <td>http://en.wikipedia.org/wiki/Elfriede_Jelinek</td>\n",
       "      <td>Elfriede Jelinek</td>\n",
       "      <td>2004</td>\n",
       "      <td>Literature</td>\n",
       "      <td>Austria</td>\n",
       "      <td></td>\n",
       "      <td>Elfriede Jelinek , Literature, 2004</td>\n",
       "      <td>20 October 1946</td>\n",
       "      <td>NaN</td>\n",
       "      <td>Mürzzuschlag</td>\n",
       "      <td>NaN</td>\n",
       "      <td>female</td>\n",
       "    </tr>\n",
       "    <tr>\n",
       "      <td>2</td>\n",
       "      <td>http://en.wikipedia.org/wiki/Eric_Kandel</td>\n",
       "      <td>Eric Kandel *</td>\n",
       "      <td>2000</td>\n",
       "      <td>Physiology or Medicine</td>\n",
       "      <td></td>\n",
       "      <td>Austria</td>\n",
       "      <td>Eric Kandel *, Physiology or Medicine, 2000</td>\n",
       "      <td>7 November 1929</td>\n",
       "      <td>NaN</td>\n",
       "      <td>Vienna</td>\n",
       "      <td>NaN</td>\n",
       "      <td>male</td>\n",
       "    </tr>\n",
       "    <tr>\n",
       "      <td>3</td>\n",
       "      <td>http://en.wikipedia.org/wiki/Walter_Kohn</td>\n",
       "      <td>Walter Kohn *</td>\n",
       "      <td>1998</td>\n",
       "      <td>Chemistry</td>\n",
       "      <td></td>\n",
       "      <td>Austria</td>\n",
       "      <td>Walter Kohn *, Chemistry, 1998</td>\n",
       "      <td>9 March 1923</td>\n",
       "      <td>19 April 2016</td>\n",
       "      <td>Vienna</td>\n",
       "      <td>Santa Barbara</td>\n",
       "      <td>male</td>\n",
       "    </tr>\n",
       "    <tr>\n",
       "      <td>4</td>\n",
       "      <td>http://en.wikipedia.org/wiki/Friedrich_Hayek</td>\n",
       "      <td>Friedrich Hayek</td>\n",
       "      <td>1974</td>\n",
       "      <td>Economics</td>\n",
       "      <td>Austria</td>\n",
       "      <td></td>\n",
       "      <td>Friedrich Hayek , Economics, 1974</td>\n",
       "      <td>8 May 1899</td>\n",
       "      <td>23 March 1992</td>\n",
       "      <td>Vienna</td>\n",
       "      <td>Freiburg im Breisgau</td>\n",
       "      <td>male</td>\n",
       "    </tr>\n",
       "  </tbody>\n",
       "</table>\n",
       "</div>"
      ],
      "text/plain": [
       "                                            link              name  year  \\\n",
       "0  http://en.wikipedia.org/wiki/Karl_Landsteiner  Karl Landsteiner  1930   \n",
       "1  http://en.wikipedia.org/wiki/Elfriede_Jelinek  Elfriede Jelinek  2004   \n",
       "2       http://en.wikipedia.org/wiki/Eric_Kandel     Eric Kandel *  2000   \n",
       "3       http://en.wikipedia.org/wiki/Walter_Kohn     Walter Kohn *  1998   \n",
       "4   http://en.wikipedia.org/wiki/Friedrich_Hayek   Friedrich Hayek  1974   \n",
       "\n",
       "                 category  country  born_in  \\\n",
       "0  Physiology or Medicine  Austria            \n",
       "1              Literature  Austria            \n",
       "2  Physiology or Medicine           Austria   \n",
       "3               Chemistry           Austria   \n",
       "4               Economics  Austria            \n",
       "\n",
       "                                              text    date_of_birth  \\\n",
       "0  Karl Landsteiner , Physiology or Medicine, 1930     14 June 1868   \n",
       "1              Elfriede Jelinek , Literature, 2004  20 October 1946   \n",
       "2      Eric Kandel *, Physiology or Medicine, 2000  7 November 1929   \n",
       "3                   Walter Kohn *, Chemistry, 1998     9 March 1923   \n",
       "4                Friedrich Hayek , Economics, 1974       8 May 1899   \n",
       "\n",
       "   date_of_death place_of_birth        place_of_death  gender  \n",
       "0   26 June 1943         Vienna         New York City    male  \n",
       "1            NaN   Mürzzuschlag                   NaN  female  \n",
       "2            NaN         Vienna                   NaN    male  \n",
       "3  19 April 2016         Vienna         Santa Barbara    male  \n",
       "4  23 March 1992         Vienna  Freiburg im Breisgau    male  "
      ]
     },
     "execution_count": 35,
     "metadata": {},
     "output_type": "execute_result"
    }
   ],
   "source": [
    "df.head()"
   ]
  },
  {
   "cell_type": "markdown",
   "metadata": {},
   "source": [
    "### Indices"
   ]
  },
  {
   "cell_type": "code",
   "execution_count": 36,
   "metadata": {},
   "outputs": [
    {
     "data": {
      "text/plain": [
       "Index(['link', 'name', 'year', 'category', 'country', 'born_in', 'text',\n",
       "       'date_of_birth', 'date_of_death', 'place_of_birth', 'place_of_death',\n",
       "       'gender'],\n",
       "      dtype='object')"
      ]
     },
     "execution_count": 36,
     "metadata": {},
     "output_type": "execute_result"
    }
   ],
   "source": [
    "df.columns"
   ]
  },
  {
   "cell_type": "code",
   "execution_count": 37,
   "metadata": {},
   "outputs": [
    {
     "data": {
      "text/plain": [
       "RangeIndex(start=0, stop=326, step=1)"
      ]
     },
     "execution_count": 37,
     "metadata": {},
     "output_type": "execute_result"
    }
   ],
   "source": [
    "df.index"
   ]
  },
  {
   "cell_type": "code",
   "execution_count": 38,
   "metadata": {},
   "outputs": [
    {
     "data": {
      "text/plain": [
       "link              http://en.wikipedia.org/wiki/Albert_Einstein\n",
       "year                                                      1921\n",
       "category                                               Physics\n",
       "country                                                Germany\n",
       "born_in                                                       \n",
       "text                           Albert Einstein , Physics, 1921\n",
       "date_of_birth                                    14 March 1879\n",
       "date_of_death                                    18 April 1955\n",
       "place_of_birth                                             Ulm\n",
       "place_of_death                                       Princeton\n",
       "gender                                                    male\n",
       "Name: Albert Einstein, dtype: object"
      ]
     },
     "execution_count": 38,
     "metadata": {},
     "output_type": "execute_result"
    }
   ],
   "source": [
    "df = df.set_index('name')\n",
    "df.loc['Albert Einstein']"
   ]
  },
  {
   "cell_type": "markdown",
   "metadata": {},
   "source": [
    "### Rows and Columns"
   ]
  },
  {
   "cell_type": "code",
   "execution_count": 39,
   "metadata": {},
   "outputs": [
    {
     "data": {
      "text/plain": [
       "link                 http://en.wikipedia.org/wiki/Eric_Kandel\n",
       "year                                                     2000\n",
       "category                               Physiology or Medicine\n",
       "country                                                      \n",
       "born_in                                               Austria\n",
       "text              Eric Kandel *, Physiology or Medicine, 2000\n",
       "date_of_birth                                 7 November 1929\n",
       "date_of_death                                             NaN\n",
       "place_of_birth                                         Vienna\n",
       "place_of_death                                            NaN\n",
       "gender                                                   male\n",
       "Name: Eric Kandel *, dtype: object"
      ]
     },
     "execution_count": 39,
     "metadata": {},
     "output_type": "execute_result"
    }
   ],
   "source": [
    "df.iloc[2]"
   ]
  },
  {
   "cell_type": "code",
   "execution_count": 41,
   "metadata": {},
   "outputs": [
    {
     "data": {
      "text/plain": [
       "pandas.core.series.Series"
      ]
     },
     "execution_count": 41,
     "metadata": {},
     "output_type": "execute_result"
    }
   ],
   "source": [
    "gender_col = df.gender\n",
    "type(gender_col)"
   ]
  },
  {
   "cell_type": "code",
   "execution_count": 42,
   "metadata": {},
   "outputs": [
    {
     "data": {
      "text/plain": [
       "name\n",
       "Karl Landsteiner      male\n",
       "Elfriede Jelinek    female\n",
       "Eric Kandel *         male\n",
       "Walter Kohn *         male\n",
       "Friedrich Hayek       male\n",
       "Name: gender, dtype: object"
      ]
     },
     "execution_count": 42,
     "metadata": {},
     "output_type": "execute_result"
    }
   ],
   "source": [
    "gender_col.head()"
   ]
  },
  {
   "cell_type": "markdown",
   "metadata": {},
   "source": [
    "### Selecting Groups"
   ]
  },
  {
   "cell_type": "code",
   "execution_count": 52,
   "metadata": {},
   "outputs": [],
   "source": [
    "df_g = df.groupby('category')"
   ]
  },
  {
   "cell_type": "code",
   "execution_count": 53,
   "metadata": {},
   "outputs": [
    {
     "data": {
      "text/plain": [
       "dict_keys(['Chemistry', 'Economics', 'Literature', 'Peace', 'Physics', 'Physiology or Medicine'])"
      ]
     },
     "execution_count": 53,
     "metadata": {},
     "output_type": "execute_result"
    }
   ],
   "source": [
    "df_g.groups.keys()"
   ]
  },
  {
   "cell_type": "code",
   "execution_count": 54,
   "metadata": {},
   "outputs": [
    {
     "data": {
      "text/html": [
       "<div>\n",
       "<style scoped>\n",
       "    .dataframe tbody tr th:only-of-type {\n",
       "        vertical-align: middle;\n",
       "    }\n",
       "\n",
       "    .dataframe tbody tr th {\n",
       "        vertical-align: top;\n",
       "    }\n",
       "\n",
       "    .dataframe thead th {\n",
       "        text-align: right;\n",
       "    }\n",
       "</style>\n",
       "<table border=\"1\" class=\"dataframe\">\n",
       "  <thead>\n",
       "    <tr style=\"text-align: right;\">\n",
       "      <th></th>\n",
       "      <th>link</th>\n",
       "      <th>name</th>\n",
       "      <th>year</th>\n",
       "      <th>category</th>\n",
       "      <th>country</th>\n",
       "      <th>born_in</th>\n",
       "      <th>text</th>\n",
       "      <th>date_of_birth</th>\n",
       "      <th>date_of_death</th>\n",
       "      <th>place_of_birth</th>\n",
       "      <th>place_of_death</th>\n",
       "      <th>gender</th>\n",
       "    </tr>\n",
       "  </thead>\n",
       "  <tbody>\n",
       "    <tr>\n",
       "      <td>14</td>\n",
       "      <td>http://en.wikipedia.org/wiki/Hans_Bethe</td>\n",
       "      <td>Hans Bethe *</td>\n",
       "      <td>1967</td>\n",
       "      <td>Physics</td>\n",
       "      <td></td>\n",
       "      <td>Germany</td>\n",
       "      <td>Hans Bethe *, Physics, 1967</td>\n",
       "      <td>2 July 1906</td>\n",
       "      <td>6 March 2005</td>\n",
       "      <td>Strasbourg</td>\n",
       "      <td>Ithaca</td>\n",
       "      <td>male</td>\n",
       "    </tr>\n",
       "    <tr>\n",
       "      <td>16</td>\n",
       "      <td>http://en.wikipedia.org/wiki/James_Franck</td>\n",
       "      <td>James Franck</td>\n",
       "      <td>1925</td>\n",
       "      <td>Physics</td>\n",
       "      <td>Germany</td>\n",
       "      <td></td>\n",
       "      <td>James Franck , Physics, 1925</td>\n",
       "      <td>26 August 1882</td>\n",
       "      <td>21 May 1964</td>\n",
       "      <td>Hamburg</td>\n",
       "      <td>Göttingen</td>\n",
       "      <td>male</td>\n",
       "    </tr>\n",
       "    <tr>\n",
       "      <td>21</td>\n",
       "      <td>http://en.wikipedia.org/wiki/Charles_K._Kao</td>\n",
       "      <td>Charles K. Kao</td>\n",
       "      <td>2009</td>\n",
       "      <td>Physics</td>\n",
       "      <td>Hong Kong</td>\n",
       "      <td></td>\n",
       "      <td>Charles K. Kao , Physics, 2009</td>\n",
       "      <td>4 November 1933</td>\n",
       "      <td>23 September 2018</td>\n",
       "      <td>Shanghai</td>\n",
       "      <td>Sha Tin</td>\n",
       "      <td>male</td>\n",
       "    </tr>\n",
       "    <tr>\n",
       "      <td>26</td>\n",
       "      <td>http://en.wikipedia.org/wiki/Philipp_Lenard</td>\n",
       "      <td>Philipp Lenard</td>\n",
       "      <td>1905</td>\n",
       "      <td>Physics</td>\n",
       "      <td>Germany</td>\n",
       "      <td></td>\n",
       "      <td>Philipp Lenard ,  born in  Pressburg ,  Kingdo...</td>\n",
       "      <td>7 June 1862</td>\n",
       "      <td>20 May 1947</td>\n",
       "      <td>Bratislava</td>\n",
       "      <td>Messelhausen</td>\n",
       "      <td>male</td>\n",
       "    </tr>\n",
       "    <tr>\n",
       "      <td>31</td>\n",
       "      <td>http://en.wikipedia.org/wiki/Wilhelm_Conrad_R%...</td>\n",
       "      <td>Wilhelm Conrad Röntgen</td>\n",
       "      <td>1901</td>\n",
       "      <td>Physics</td>\n",
       "      <td>Germany</td>\n",
       "      <td></td>\n",
       "      <td>Wilhelm Conrad Röntgen , Physics, 1901</td>\n",
       "      <td>27 March 1845</td>\n",
       "      <td>10 February 1923</td>\n",
       "      <td>Lennep</td>\n",
       "      <td>Munich</td>\n",
       "      <td>male</td>\n",
       "    </tr>\n",
       "  </tbody>\n",
       "</table>\n",
       "</div>"
      ],
      "text/plain": [
       "                                                 link                    name  \\\n",
       "14            http://en.wikipedia.org/wiki/Hans_Bethe            Hans Bethe *   \n",
       "16          http://en.wikipedia.org/wiki/James_Franck            James Franck   \n",
       "21        http://en.wikipedia.org/wiki/Charles_K._Kao          Charles K. Kao   \n",
       "26        http://en.wikipedia.org/wiki/Philipp_Lenard          Philipp Lenard   \n",
       "31  http://en.wikipedia.org/wiki/Wilhelm_Conrad_R%...  Wilhelm Conrad Röntgen   \n",
       "\n",
       "    year category    country  born_in  \\\n",
       "14  1967  Physics             Germany   \n",
       "16  1925  Physics    Germany            \n",
       "21  2009  Physics  Hong Kong            \n",
       "26  1905  Physics    Germany            \n",
       "31  1901  Physics    Germany            \n",
       "\n",
       "                                                 text    date_of_birth  \\\n",
       "14                        Hans Bethe *, Physics, 1967      2 July 1906   \n",
       "16                       James Franck , Physics, 1925   26 August 1882   \n",
       "21                     Charles K. Kao , Physics, 2009  4 November 1933   \n",
       "26  Philipp Lenard ,  born in  Pressburg ,  Kingdo...      7 June 1862   \n",
       "31             Wilhelm Conrad Röntgen , Physics, 1901    27 March 1845   \n",
       "\n",
       "        date_of_death place_of_birth place_of_death gender  \n",
       "14       6 March 2005     Strasbourg         Ithaca   male  \n",
       "16        21 May 1964        Hamburg      Göttingen   male  \n",
       "21  23 September 2018       Shanghai        Sha Tin   male  \n",
       "26        20 May 1947     Bratislava   Messelhausen   male  \n",
       "31   10 February 1923         Lennep         Munich   male  "
      ]
     },
     "execution_count": 54,
     "metadata": {},
     "output_type": "execute_result"
    }
   ],
   "source": [
    "phy_group = df_g.get_group('Physics')\n",
    "phy_group.head()"
   ]
  },
  {
   "cell_type": "code",
   "execution_count": 55,
   "metadata": {},
   "outputs": [
    {
     "data": {
      "text/plain": [
       "0      False\n",
       "1      False\n",
       "2      False\n",
       "3      False\n",
       "4      False\n",
       "       ...  \n",
       "321    False\n",
       "322    False\n",
       "323    False\n",
       "324    False\n",
       "325    False\n",
       "Name: category, Length: 326, dtype: bool"
      ]
     },
     "execution_count": 55,
     "metadata": {},
     "output_type": "execute_result"
    }
   ],
   "source": [
    "df.category == 'Physics'"
   ]
  },
  {
   "cell_type": "code",
   "execution_count": 56,
   "metadata": {},
   "outputs": [
    {
     "data": {
      "text/html": [
       "<div>\n",
       "<style scoped>\n",
       "    .dataframe tbody tr th:only-of-type {\n",
       "        vertical-align: middle;\n",
       "    }\n",
       "\n",
       "    .dataframe tbody tr th {\n",
       "        vertical-align: top;\n",
       "    }\n",
       "\n",
       "    .dataframe thead th {\n",
       "        text-align: right;\n",
       "    }\n",
       "</style>\n",
       "<table border=\"1\" class=\"dataframe\">\n",
       "  <thead>\n",
       "    <tr style=\"text-align: right;\">\n",
       "      <th></th>\n",
       "      <th>link</th>\n",
       "      <th>name</th>\n",
       "      <th>year</th>\n",
       "      <th>category</th>\n",
       "      <th>country</th>\n",
       "      <th>born_in</th>\n",
       "      <th>text</th>\n",
       "      <th>date_of_birth</th>\n",
       "      <th>date_of_death</th>\n",
       "      <th>place_of_birth</th>\n",
       "      <th>place_of_death</th>\n",
       "      <th>gender</th>\n",
       "    </tr>\n",
       "  </thead>\n",
       "  <tbody>\n",
       "    <tr>\n",
       "      <td>14</td>\n",
       "      <td>http://en.wikipedia.org/wiki/Hans_Bethe</td>\n",
       "      <td>Hans Bethe *</td>\n",
       "      <td>1967</td>\n",
       "      <td>Physics</td>\n",
       "      <td></td>\n",
       "      <td>Germany</td>\n",
       "      <td>Hans Bethe *, Physics, 1967</td>\n",
       "      <td>2 July 1906</td>\n",
       "      <td>6 March 2005</td>\n",
       "      <td>Strasbourg</td>\n",
       "      <td>Ithaca</td>\n",
       "      <td>male</td>\n",
       "    </tr>\n",
       "    <tr>\n",
       "      <td>16</td>\n",
       "      <td>http://en.wikipedia.org/wiki/James_Franck</td>\n",
       "      <td>James Franck</td>\n",
       "      <td>1925</td>\n",
       "      <td>Physics</td>\n",
       "      <td>Germany</td>\n",
       "      <td></td>\n",
       "      <td>James Franck , Physics, 1925</td>\n",
       "      <td>26 August 1882</td>\n",
       "      <td>21 May 1964</td>\n",
       "      <td>Hamburg</td>\n",
       "      <td>Göttingen</td>\n",
       "      <td>male</td>\n",
       "    </tr>\n",
       "    <tr>\n",
       "      <td>21</td>\n",
       "      <td>http://en.wikipedia.org/wiki/Charles_K._Kao</td>\n",
       "      <td>Charles K. Kao</td>\n",
       "      <td>2009</td>\n",
       "      <td>Physics</td>\n",
       "      <td>Hong Kong</td>\n",
       "      <td></td>\n",
       "      <td>Charles K. Kao , Physics, 2009</td>\n",
       "      <td>4 November 1933</td>\n",
       "      <td>23 September 2018</td>\n",
       "      <td>Shanghai</td>\n",
       "      <td>Sha Tin</td>\n",
       "      <td>male</td>\n",
       "    </tr>\n",
       "    <tr>\n",
       "      <td>26</td>\n",
       "      <td>http://en.wikipedia.org/wiki/Philipp_Lenard</td>\n",
       "      <td>Philipp Lenard</td>\n",
       "      <td>1905</td>\n",
       "      <td>Physics</td>\n",
       "      <td>Germany</td>\n",
       "      <td></td>\n",
       "      <td>Philipp Lenard ,  born in  Pressburg ,  Kingdo...</td>\n",
       "      <td>7 June 1862</td>\n",
       "      <td>20 May 1947</td>\n",
       "      <td>Bratislava</td>\n",
       "      <td>Messelhausen</td>\n",
       "      <td>male</td>\n",
       "    </tr>\n",
       "    <tr>\n",
       "      <td>31</td>\n",
       "      <td>http://en.wikipedia.org/wiki/Wilhelm_Conrad_R%...</td>\n",
       "      <td>Wilhelm Conrad Röntgen</td>\n",
       "      <td>1901</td>\n",
       "      <td>Physics</td>\n",
       "      <td>Germany</td>\n",
       "      <td></td>\n",
       "      <td>Wilhelm Conrad Röntgen , Physics, 1901</td>\n",
       "      <td>27 March 1845</td>\n",
       "      <td>10 February 1923</td>\n",
       "      <td>Lennep</td>\n",
       "      <td>Munich</td>\n",
       "      <td>male</td>\n",
       "    </tr>\n",
       "    <tr>\n",
       "      <td>...</td>\n",
       "      <td>...</td>\n",
       "      <td>...</td>\n",
       "      <td>...</td>\n",
       "      <td>...</td>\n",
       "      <td>...</td>\n",
       "      <td>...</td>\n",
       "      <td>...</td>\n",
       "      <td>...</td>\n",
       "      <td>...</td>\n",
       "      <td>...</td>\n",
       "      <td>...</td>\n",
       "      <td>...</td>\n",
       "    </tr>\n",
       "    <tr>\n",
       "      <td>291</td>\n",
       "      <td>http://en.wikipedia.org/wiki/Zhores_Alferov</td>\n",
       "      <td>Zhores Alferov *</td>\n",
       "      <td>2000</td>\n",
       "      <td>Physics</td>\n",
       "      <td></td>\n",
       "      <td>Belarus</td>\n",
       "      <td>Zhores Alferov *, Physics, 2000</td>\n",
       "      <td>15 March 1930</td>\n",
       "      <td>1 March 2019</td>\n",
       "      <td>Vitebsk</td>\n",
       "      <td>Saint Petersburg</td>\n",
       "      <td>male</td>\n",
       "    </tr>\n",
       "    <tr>\n",
       "      <td>292</td>\n",
       "      <td>http://en.wikipedia.org/wiki/Fran%C3%A7ois_Eng...</td>\n",
       "      <td>François Englert</td>\n",
       "      <td>2013</td>\n",
       "      <td>Physics</td>\n",
       "      <td>Belgium</td>\n",
       "      <td></td>\n",
       "      <td>François Englert , Physics, 2013</td>\n",
       "      <td>6 November 1932</td>\n",
       "      <td>NaN</td>\n",
       "      <td>Etterbeek</td>\n",
       "      <td>NaN</td>\n",
       "      <td>male</td>\n",
       "    </tr>\n",
       "    <tr>\n",
       "      <td>310</td>\n",
       "      <td>http://en.wikipedia.org/wiki/Donna_Strickland</td>\n",
       "      <td>Donna Strickland</td>\n",
       "      <td>2018</td>\n",
       "      <td>Physics</td>\n",
       "      <td>Canada</td>\n",
       "      <td></td>\n",
       "      <td>Donna Strickland , Physics, 2018</td>\n",
       "      <td>29 May 1959</td>\n",
       "      <td>NaN</td>\n",
       "      <td>Guelph</td>\n",
       "      <td>NaN</td>\n",
       "      <td>female</td>\n",
       "    </tr>\n",
       "    <tr>\n",
       "      <td>311</td>\n",
       "      <td>http://en.wikipedia.org/wiki/Arthur_B._McDonald</td>\n",
       "      <td>Arthur B. McDonald</td>\n",
       "      <td>2015</td>\n",
       "      <td>Physics</td>\n",
       "      <td>Canada</td>\n",
       "      <td></td>\n",
       "      <td>Arthur B. McDonald , Physics, 2015</td>\n",
       "      <td>29 August 1943</td>\n",
       "      <td>NaN</td>\n",
       "      <td>Sydney</td>\n",
       "      <td>NaN</td>\n",
       "      <td>male</td>\n",
       "    </tr>\n",
       "    <tr>\n",
       "      <td>314</td>\n",
       "      <td>http://en.wikipedia.org/wiki/Brian_Schmidt</td>\n",
       "      <td>Brian Schmidt</td>\n",
       "      <td>2011</td>\n",
       "      <td>Physics</td>\n",
       "      <td>Australia</td>\n",
       "      <td></td>\n",
       "      <td>Brian Schmidt ,  born in the United States , P...</td>\n",
       "      <td>24 February 1967</td>\n",
       "      <td>NaN</td>\n",
       "      <td>Missoula</td>\n",
       "      <td>NaN</td>\n",
       "      <td>male</td>\n",
       "    </tr>\n",
       "  </tbody>\n",
       "</table>\n",
       "<p>71 rows × 12 columns</p>\n",
       "</div>"
      ],
      "text/plain": [
       "                                                  link  \\\n",
       "14             http://en.wikipedia.org/wiki/Hans_Bethe   \n",
       "16           http://en.wikipedia.org/wiki/James_Franck   \n",
       "21         http://en.wikipedia.org/wiki/Charles_K._Kao   \n",
       "26         http://en.wikipedia.org/wiki/Philipp_Lenard   \n",
       "31   http://en.wikipedia.org/wiki/Wilhelm_Conrad_R%...   \n",
       "..                                                 ...   \n",
       "291        http://en.wikipedia.org/wiki/Zhores_Alferov   \n",
       "292  http://en.wikipedia.org/wiki/Fran%C3%A7ois_Eng...   \n",
       "310      http://en.wikipedia.org/wiki/Donna_Strickland   \n",
       "311    http://en.wikipedia.org/wiki/Arthur_B._McDonald   \n",
       "314         http://en.wikipedia.org/wiki/Brian_Schmidt   \n",
       "\n",
       "                       name  year category    country  born_in  \\\n",
       "14             Hans Bethe *  1967  Physics             Germany   \n",
       "16             James Franck  1925  Physics    Germany            \n",
       "21           Charles K. Kao  2009  Physics  Hong Kong            \n",
       "26           Philipp Lenard  1905  Physics    Germany            \n",
       "31   Wilhelm Conrad Röntgen  1901  Physics    Germany            \n",
       "..                      ...   ...      ...        ...      ...   \n",
       "291        Zhores Alferov *  2000  Physics             Belarus   \n",
       "292        François Englert  2013  Physics    Belgium            \n",
       "310        Donna Strickland  2018  Physics     Canada            \n",
       "311      Arthur B. McDonald  2015  Physics     Canada            \n",
       "314           Brian Schmidt  2011  Physics  Australia            \n",
       "\n",
       "                                                  text     date_of_birth  \\\n",
       "14                         Hans Bethe *, Physics, 1967       2 July 1906   \n",
       "16                        James Franck , Physics, 1925    26 August 1882   \n",
       "21                      Charles K. Kao , Physics, 2009   4 November 1933   \n",
       "26   Philipp Lenard ,  born in  Pressburg ,  Kingdo...       7 June 1862   \n",
       "31              Wilhelm Conrad Röntgen , Physics, 1901     27 March 1845   \n",
       "..                                                 ...               ...   \n",
       "291                    Zhores Alferov *, Physics, 2000     15 March 1930   \n",
       "292                   François Englert , Physics, 2013   6 November 1932   \n",
       "310                   Donna Strickland , Physics, 2018       29 May 1959   \n",
       "311                 Arthur B. McDonald , Physics, 2015    29 August 1943   \n",
       "314  Brian Schmidt ,  born in the United States , P...  24 February 1967   \n",
       "\n",
       "         date_of_death place_of_birth    place_of_death  gender  \n",
       "14        6 March 2005     Strasbourg            Ithaca    male  \n",
       "16         21 May 1964        Hamburg         Göttingen    male  \n",
       "21   23 September 2018       Shanghai           Sha Tin    male  \n",
       "26         20 May 1947     Bratislava      Messelhausen    male  \n",
       "31    10 February 1923         Lennep            Munich    male  \n",
       "..                 ...            ...               ...     ...  \n",
       "291       1 March 2019        Vitebsk  Saint Petersburg    male  \n",
       "292                NaN      Etterbeek               NaN    male  \n",
       "310                NaN         Guelph               NaN  female  \n",
       "311                NaN         Sydney               NaN    male  \n",
       "314                NaN       Missoula               NaN    male  \n",
       "\n",
       "[71 rows x 12 columns]"
      ]
     },
     "execution_count": 56,
     "metadata": {},
     "output_type": "execute_result"
    }
   ],
   "source": [
    "df[df.category == 'Physics']"
   ]
  },
  {
   "cell_type": "markdown",
   "metadata": {},
   "source": [
    "### Creating and Saving DataFrames"
   ]
  },
  {
   "cell_type": "code",
   "execution_count": 58,
   "metadata": {},
   "outputs": [],
   "source": [
    "df = pd.DataFrame({\n",
    "    'name': ['Albert Einstein', 'Marie Curie', 'William Faulkner'],\n",
    "    'category': ['Physics', 'Chemistry', 'Literature']\n",
    "})"
   ]
  },
  {
   "cell_type": "code",
   "execution_count": 59,
   "metadata": {},
   "outputs": [
    {
     "data": {
      "text/html": [
       "<div>\n",
       "<style scoped>\n",
       "    .dataframe tbody tr th:only-of-type {\n",
       "        vertical-align: middle;\n",
       "    }\n",
       "\n",
       "    .dataframe tbody tr th {\n",
       "        vertical-align: top;\n",
       "    }\n",
       "\n",
       "    .dataframe thead th {\n",
       "        text-align: right;\n",
       "    }\n",
       "</style>\n",
       "<table border=\"1\" class=\"dataframe\">\n",
       "  <thead>\n",
       "    <tr style=\"text-align: right;\">\n",
       "      <th></th>\n",
       "      <th>name</th>\n",
       "      <th>category</th>\n",
       "    </tr>\n",
       "  </thead>\n",
       "  <tbody>\n",
       "    <tr>\n",
       "      <td>0</td>\n",
       "      <td>Albert Einstein</td>\n",
       "      <td>Physics</td>\n",
       "    </tr>\n",
       "    <tr>\n",
       "      <td>1</td>\n",
       "      <td>Marie Curie</td>\n",
       "      <td>Chemistry</td>\n",
       "    </tr>\n",
       "    <tr>\n",
       "      <td>2</td>\n",
       "      <td>William Faulkner</td>\n",
       "      <td>Literature</td>\n",
       "    </tr>\n",
       "  </tbody>\n",
       "</table>\n",
       "</div>"
      ],
      "text/plain": [
       "               name    category\n",
       "0   Albert Einstein     Physics\n",
       "1       Marie Curie   Chemistry\n",
       "2  William Faulkner  Literature"
      ]
     },
     "execution_count": 59,
     "metadata": {},
     "output_type": "execute_result"
    }
   ],
   "source": [
    "df"
   ]
  },
  {
   "cell_type": "code",
   "execution_count": 61,
   "metadata": {},
   "outputs": [],
   "source": [
    "df = pd.DataFrame.from_dict([\n",
    "    {'name': 'Albert Einstein', 'category': 'Physics'},\n",
    "    {'name': 'Marie Curie', 'category': 'Chemistry'},\n",
    "    {'name': 'William Faulkner', 'category': 'Literature'}\n",
    "])"
   ]
  },
  {
   "cell_type": "code",
   "execution_count": 62,
   "metadata": {},
   "outputs": [
    {
     "data": {
      "text/html": [
       "<div>\n",
       "<style scoped>\n",
       "    .dataframe tbody tr th:only-of-type {\n",
       "        vertical-align: middle;\n",
       "    }\n",
       "\n",
       "    .dataframe tbody tr th {\n",
       "        vertical-align: top;\n",
       "    }\n",
       "\n",
       "    .dataframe thead th {\n",
       "        text-align: right;\n",
       "    }\n",
       "</style>\n",
       "<table border=\"1\" class=\"dataframe\">\n",
       "  <thead>\n",
       "    <tr style=\"text-align: right;\">\n",
       "      <th></th>\n",
       "      <th>name</th>\n",
       "      <th>category</th>\n",
       "    </tr>\n",
       "  </thead>\n",
       "  <tbody>\n",
       "    <tr>\n",
       "      <td>0</td>\n",
       "      <td>Albert Einstein</td>\n",
       "      <td>Physics</td>\n",
       "    </tr>\n",
       "    <tr>\n",
       "      <td>1</td>\n",
       "      <td>Marie Curie</td>\n",
       "      <td>Chemistry</td>\n",
       "    </tr>\n",
       "    <tr>\n",
       "      <td>2</td>\n",
       "      <td>William Faulkner</td>\n",
       "      <td>Literature</td>\n",
       "    </tr>\n",
       "  </tbody>\n",
       "</table>\n",
       "</div>"
      ],
      "text/plain": [
       "               name    category\n",
       "0   Albert Einstein     Physics\n",
       "1       Marie Curie   Chemistry\n",
       "2  William Faulkner  Literature"
      ]
     },
     "execution_count": 62,
     "metadata": {},
     "output_type": "execute_result"
    }
   ],
   "source": [
    "df"
   ]
  },
  {
   "cell_type": "markdown",
   "metadata": {},
   "source": [
    "## MongoDB"
   ]
  },
  {
   "cell_type": "code",
   "execution_count": 67,
   "metadata": {},
   "outputs": [],
   "source": [
    "from pymongo import MongoClient\n",
    "\n",
    "def get_mongo_database(db_name, host='pi.hole',\n",
    "                       port=27017, username=None, password=None):\n",
    "    \"\"\" Get named database from MongoDB with/out authentication \"\"\"\n",
    "    if username and password:\n",
    "        mongo_url = f'mongodb://{username}:{password}@{host}/{db_name}'\n",
    "        conn = MongoClient(mongo_url)\n",
    "    else:\n",
    "        conn = MongoClient(host, port)\n",
    "        \n",
    "    return conn[db_name]"
   ]
  },
  {
   "cell_type": "code",
   "execution_count": 68,
   "metadata": {},
   "outputs": [],
   "source": [
    "def mongo_to_dataframe(db_name, collection, query={},\n",
    "                       host=\"10.0.0.153\", port=27017,\n",
    "                       username=None, password=None,\n",
    "                       no_id=True):\n",
    "    \"\"\" create a dataframe from mongodb collection \"\"\"\n",
    "    db = get_mongo_database(db_name, host, port, username, password)\n",
    "    \n",
    "    cursor = db[collection].find(query)\n",
    "    \n",
    "    df = pd.DataFrame(list(cursor))\n",
    "    \n",
    "    if no_id:\n",
    "        del df['_id']\n",
    "    \n",
    "    return df"
   ]
  },
  {
   "cell_type": "code",
   "execution_count": 69,
   "metadata": {},
   "outputs": [],
   "source": [
    "df = mongo_to_dataframe('nobel_prize', 'winners')"
   ]
  },
  {
   "cell_type": "code",
   "execution_count": 71,
   "metadata": {},
   "outputs": [
    {
     "data": {
      "text/html": [
       "<div>\n",
       "<style scoped>\n",
       "    .dataframe tbody tr th:only-of-type {\n",
       "        vertical-align: middle;\n",
       "    }\n",
       "\n",
       "    .dataframe tbody tr th {\n",
       "        vertical-align: top;\n",
       "    }\n",
       "\n",
       "    .dataframe thead th {\n",
       "        text-align: right;\n",
       "    }\n",
       "</style>\n",
       "<table border=\"1\" class=\"dataframe\">\n",
       "  <thead>\n",
       "    <tr style=\"text-align: right;\">\n",
       "      <th></th>\n",
       "      <th>category</th>\n",
       "      <th>name</th>\n",
       "      <th>nationality</th>\n",
       "      <th>sex</th>\n",
       "      <th>year</th>\n",
       "    </tr>\n",
       "  </thead>\n",
       "  <tbody>\n",
       "    <tr>\n",
       "      <td>0</td>\n",
       "      <td>Physics</td>\n",
       "      <td>Albert Einstein</td>\n",
       "      <td>Swiss</td>\n",
       "      <td>male</td>\n",
       "      <td>1921</td>\n",
       "    </tr>\n",
       "    <tr>\n",
       "      <td>1</td>\n",
       "      <td>Physics</td>\n",
       "      <td>Paul Dirac</td>\n",
       "      <td>British</td>\n",
       "      <td>male</td>\n",
       "      <td>1933</td>\n",
       "    </tr>\n",
       "    <tr>\n",
       "      <td>2</td>\n",
       "      <td>Chemistry</td>\n",
       "      <td>Marie Curie</td>\n",
       "      <td>Polish</td>\n",
       "      <td>female</td>\n",
       "      <td>1911</td>\n",
       "    </tr>\n",
       "  </tbody>\n",
       "</table>\n",
       "</div>"
      ],
      "text/plain": [
       "    category             name nationality     sex  year\n",
       "0    Physics  Albert Einstein       Swiss    male  1921\n",
       "1    Physics       Paul Dirac     British    male  1933\n",
       "2  Chemistry      Marie Curie      Polish  female  1911"
      ]
     },
     "execution_count": 71,
     "metadata": {},
     "output_type": "execute_result"
    }
   ],
   "source": [
    "df"
   ]
  },
  {
   "cell_type": "code",
   "execution_count": 76,
   "metadata": {},
   "outputs": [
    {
     "data": {
      "text/plain": [
       "{'category': {0: 'Physics', 1: 'Physics', 2: 'Chemistry'},\n",
       " 'name': {0: 'Albert Einstein', 1: 'Paul Dirac', 2: 'Marie Curie'},\n",
       " 'nationality': {0: 'Swiss', 1: 'British', 2: 'Polish'},\n",
       " 'sex': {0: 'male', 1: 'male', 2: 'female'},\n",
       " 'year': {0: 1921, 1: 1933, 2: 1911}}"
      ]
     },
     "execution_count": 76,
     "metadata": {},
     "output_type": "execute_result"
    }
   ],
   "source": [
    "df.to_dict()"
   ]
  },
  {
   "cell_type": "code",
   "execution_count": 75,
   "metadata": {},
   "outputs": [
    {
     "data": {
      "text/plain": [
       "[{'category': 'Physics',\n",
       "  'name': 'Albert Einstein',\n",
       "  'nationality': 'Swiss',\n",
       "  'sex': 'male',\n",
       "  'year': 1921},\n",
       " {'category': 'Physics',\n",
       "  'name': 'Paul Dirac',\n",
       "  'nationality': 'British',\n",
       "  'sex': 'male',\n",
       "  'year': 1933},\n",
       " {'category': 'Chemistry',\n",
       "  'name': 'Marie Curie',\n",
       "  'nationality': 'Polish',\n",
       "  'sex': 'female',\n",
       "  'year': 1911}]"
      ]
     },
     "execution_count": 75,
     "metadata": {},
     "output_type": "execute_result"
    }
   ],
   "source": [
    "df.to_dict('records')"
   ]
  },
  {
   "cell_type": "code",
   "execution_count": 78,
   "metadata": {},
   "outputs": [],
   "source": [
    "def dataframe_to_mongo(df, db_name, collection,\n",
    "                       host='localhost', port=27017,\n",
    "                       username=None, password=None):\n",
    "    \"\"\" save a dataframe to mongodb collection \"\"\"\n",
    "    db = get_mongo_dataframe(db_name, host, port, username,\n",
    "                             password)\n",
    "    \n",
    "    records = df.to_dict('records')\n",
    "    db[collection].insert(records)"
   ]
  },
  {
   "cell_type": "markdown",
   "metadata": {},
   "source": [
    "## Series into DataFrame"
   ]
  },
  {
   "cell_type": "code",
   "execution_count": 79,
   "metadata": {},
   "outputs": [
    {
     "data": {
      "text/plain": [
       "0    1\n",
       "1    2\n",
       "2    3\n",
       "3    4\n",
       "dtype: int64"
      ]
     },
     "execution_count": 79,
     "metadata": {},
     "output_type": "execute_result"
    }
   ],
   "source": [
    "s = pd.Series([1, 2, 3, 4])\n",
    "s"
   ]
  },
  {
   "cell_type": "code",
   "execution_count": 80,
   "metadata": {},
   "outputs": [
    {
     "data": {
      "text/plain": [
       "a    1\n",
       "b    2\n",
       "c    3\n",
       "d    4\n",
       "dtype: int64"
      ]
     },
     "execution_count": 80,
     "metadata": {},
     "output_type": "execute_result"
    }
   ],
   "source": [
    "s = pd.Series([1, 2, 3, 4], index=['a', 'b', 'c', 'd'])\n",
    "s"
   ]
  },
  {
   "cell_type": "code",
   "execution_count": 81,
   "metadata": {},
   "outputs": [
    {
     "data": {
      "text/plain": [
       "a    1\n",
       "b    2\n",
       "c    3\n",
       "dtype: int64"
      ]
     },
     "execution_count": 81,
     "metadata": {},
     "output_type": "execute_result"
    }
   ],
   "source": [
    "s = pd.Series({'a':1, 'b':2, 'c':3})\n",
    "s"
   ]
  },
  {
   "cell_type": "code",
   "execution_count": 82,
   "metadata": {},
   "outputs": [
    {
     "data": {
      "text/plain": [
       "a    1\n",
       "b    2\n",
       "c    3\n",
       "dtype: int64"
      ]
     },
     "execution_count": 82,
     "metadata": {},
     "output_type": "execute_result"
    }
   ],
   "source": [
    "s = pd.Series({'a':1, 'b':2, 'c': 3})\n",
    "s"
   ]
  },
  {
   "cell_type": "code",
   "execution_count": 83,
   "metadata": {},
   "outputs": [
    {
     "data": {
      "text/plain": [
       "a    1.0\n",
       "b    2.0\n",
       "c    NaN\n",
       "dtype: float64"
      ]
     },
     "execution_count": 83,
     "metadata": {},
     "output_type": "execute_result"
    }
   ],
   "source": [
    "s = pd.Series({'a': 1, 'b': 2}, index=['a', 'b', 'c'])\n",
    "s"
   ]
  },
  {
   "cell_type": "code",
   "execution_count": 84,
   "metadata": {},
   "outputs": [
    {
     "data": {
      "text/plain": [
       "a    1\n",
       "b    2\n",
       "dtype: int64"
      ]
     },
     "execution_count": 84,
     "metadata": {},
     "output_type": "execute_result"
    }
   ],
   "source": [
    "s = pd.Series({'a': 1, 'b': 2, 'c': 3}, index=['a', 'b'])\n",
    "s"
   ]
  },
  {
   "cell_type": "code",
   "execution_count": 86,
   "metadata": {},
   "outputs": [
    {
     "data": {
      "text/plain": [
       "a    9\n",
       "b    9\n",
       "c    9\n",
       "dtype: int64"
      ]
     },
     "execution_count": 86,
     "metadata": {},
     "output_type": "execute_result"
    }
   ],
   "source": [
    "s = pd.Series(9, {'a', 'b', 'c'})\n",
    "s"
   ]
  },
  {
   "cell_type": "code",
   "execution_count": 87,
   "metadata": {},
   "outputs": [
    {
     "data": {
      "text/plain": [
       "a    1\n",
       "b    2\n",
       "c    3\n",
       "d    4\n",
       "dtype: int64"
      ]
     },
     "execution_count": 87,
     "metadata": {},
     "output_type": "execute_result"
    }
   ],
   "source": [
    "s = pd.Series([1, 2, 3, 4], ['a', 'b', 'c', 'd'])\n",
    "s"
   ]
  },
  {
   "cell_type": "code",
   "execution_count": 88,
   "metadata": {},
   "outputs": [
    {
     "data": {
      "text/plain": [
       "b    2\n",
       "c    3\n",
       "dtype: int64"
      ]
     },
     "execution_count": 88,
     "metadata": {},
     "output_type": "execute_result"
    }
   ],
   "source": [
    "s[1:3]"
   ]
  },
  {
   "cell_type": "code",
   "execution_count": 89,
   "metadata": {},
   "outputs": [
    {
     "data": {
      "text/plain": [
       "0         3\n",
       "1       5.1\n",
       "2    foobar\n",
       "dtype: object"
      ]
     },
     "execution_count": 89,
     "metadata": {},
     "output_type": "execute_result"
    }
   ],
   "source": [
    "pd.Series([1, 2.1, 'foo']) + pd.Series([2, 3, 'bar'])"
   ]
  },
  {
   "cell_type": "code",
   "execution_count": 90,
   "metadata": {},
   "outputs": [
    {
     "data": {
      "text/html": [
       "<div>\n",
       "<style scoped>\n",
       "    .dataframe tbody tr th:only-of-type {\n",
       "        vertical-align: middle;\n",
       "    }\n",
       "\n",
       "    .dataframe tbody tr th {\n",
       "        vertical-align: top;\n",
       "    }\n",
       "\n",
       "    .dataframe thead th {\n",
       "        text-align: right;\n",
       "    }\n",
       "</style>\n",
       "<table border=\"1\" class=\"dataframe\">\n",
       "  <thead>\n",
       "    <tr style=\"text-align: right;\">\n",
       "      <th></th>\n",
       "      <th>name</th>\n",
       "      <th>category</th>\n",
       "    </tr>\n",
       "  </thead>\n",
       "  <tbody>\n",
       "    <tr>\n",
       "      <td>0</td>\n",
       "      <td>Albert Einstein</td>\n",
       "      <td>Physics</td>\n",
       "    </tr>\n",
       "    <tr>\n",
       "      <td>1</td>\n",
       "      <td>Marie Curie</td>\n",
       "      <td>Chemistry</td>\n",
       "    </tr>\n",
       "  </tbody>\n",
       "</table>\n",
       "</div>"
      ],
      "text/plain": [
       "              name   category\n",
       "0  Albert Einstein    Physics\n",
       "1      Marie Curie  Chemistry"
      ]
     },
     "execution_count": 90,
     "metadata": {},
     "output_type": "execute_result"
    }
   ],
   "source": [
    "names = pd.Series(['Albert Einstein', 'Marie Curie'], name='name')\n",
    "categories = pd.Series(['Physics', 'Chemistry'], name='category')\n",
    "\n",
    "df = pd.concat([names, categories], axis=1)\n",
    "\n",
    "df.head()"
   ]
  },
  {
   "cell_type": "markdown",
   "metadata": {},
   "source": [
    "## Panels"
   ]
  },
  {
   "cell_type": "code",
   "execution_count": 91,
   "metadata": {},
   "outputs": [
    {
     "data": {
      "text/html": [
       "<div>\n",
       "<style scoped>\n",
       "    .dataframe tbody tr th:only-of-type {\n",
       "        vertical-align: middle;\n",
       "    }\n",
       "\n",
       "    .dataframe tbody tr th {\n",
       "        vertical-align: top;\n",
       "    }\n",
       "\n",
       "    .dataframe thead th {\n",
       "        text-align: right;\n",
       "    }\n",
       "</style>\n",
       "<table border=\"1\" class=\"dataframe\">\n",
       "  <thead>\n",
       "    <tr style=\"text-align: right;\">\n",
       "      <th></th>\n",
       "      <th>foo</th>\n",
       "      <th>bar</th>\n",
       "    </tr>\n",
       "  </thead>\n",
       "  <tbody>\n",
       "    <tr>\n",
       "      <td>0</td>\n",
       "      <td>1</td>\n",
       "      <td>a</td>\n",
       "    </tr>\n",
       "    <tr>\n",
       "      <td>1</td>\n",
       "      <td>2</td>\n",
       "      <td>b</td>\n",
       "    </tr>\n",
       "    <tr>\n",
       "      <td>2</td>\n",
       "      <td>3</td>\n",
       "      <td>c</td>\n",
       "    </tr>\n",
       "  </tbody>\n",
       "</table>\n",
       "</div>"
      ],
      "text/plain": [
       "   foo bar\n",
       "0    1   a\n",
       "1    2   b\n",
       "2    3   c"
      ]
     },
     "execution_count": 91,
     "metadata": {},
     "output_type": "execute_result"
    }
   ],
   "source": [
    "df1 = pd.DataFrame({'foo': [1, 2, 3],\n",
    "                    'bar': ['a', 'b', 'c']})\n",
    "df1"
   ]
  },
  {
   "cell_type": "code",
   "execution_count": 92,
   "metadata": {},
   "outputs": [
    {
     "data": {
      "text/html": [
       "<div>\n",
       "<style scoped>\n",
       "    .dataframe tbody tr th:only-of-type {\n",
       "        vertical-align: middle;\n",
       "    }\n",
       "\n",
       "    .dataframe tbody tr th {\n",
       "        vertical-align: top;\n",
       "    }\n",
       "\n",
       "    .dataframe thead th {\n",
       "        text-align: right;\n",
       "    }\n",
       "</style>\n",
       "<table border=\"1\" class=\"dataframe\">\n",
       "  <thead>\n",
       "    <tr style=\"text-align: right;\">\n",
       "      <th></th>\n",
       "      <th>baz</th>\n",
       "      <th>qux</th>\n",
       "    </tr>\n",
       "  </thead>\n",
       "  <tbody>\n",
       "    <tr>\n",
       "      <td>0</td>\n",
       "      <td>7</td>\n",
       "      <td>p</td>\n",
       "    </tr>\n",
       "    <tr>\n",
       "      <td>1</td>\n",
       "      <td>8</td>\n",
       "      <td>q</td>\n",
       "    </tr>\n",
       "    <tr>\n",
       "      <td>2</td>\n",
       "      <td>9</td>\n",
       "      <td>r</td>\n",
       "    </tr>\n",
       "    <tr>\n",
       "      <td>3</td>\n",
       "      <td>11</td>\n",
       "      <td>t</td>\n",
       "    </tr>\n",
       "  </tbody>\n",
       "</table>\n",
       "</div>"
      ],
      "text/plain": [
       "   baz qux\n",
       "0    7   p\n",
       "1    8   q\n",
       "2    9   r\n",
       "3   11   t"
      ]
     },
     "execution_count": 92,
     "metadata": {},
     "output_type": "execute_result"
    }
   ],
   "source": [
    "df2 = pd.DataFrame({'baz': [7, 8, 9, 11],\n",
    "                    'qux': ['p', 'q', 'r', 't']})\n",
    "df2"
   ]
  },
  {
   "cell_type": "code",
   "execution_count": null,
   "metadata": {},
   "outputs": [],
   "source": []
  }
 ],
 "metadata": {
  "kernelspec": {
   "display_name": "Python 3",
   "language": "python",
   "name": "python3"
  },
  "language_info": {
   "codemirror_mode": {
    "name": "ipython",
    "version": 3
   },
   "file_extension": ".py",
   "mimetype": "text/x-python",
   "name": "python",
   "nbconvert_exporter": "python",
   "pygments_lexer": "ipython3",
   "version": "3.7.4"
  }
 },
 "nbformat": 4,
 "nbformat_minor": 2
}
